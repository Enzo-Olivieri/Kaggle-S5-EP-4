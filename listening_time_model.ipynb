{
 "cells": [
  {
   "cell_type": "code",
   "execution_count": 1,
   "metadata": {},
   "outputs": [],
   "source": [
    "import pandas as pd\n",
    "from sklearn.model_selection import train_test_split\n",
    "from sklearn.impute import SimpleImputer\n",
    "from xgboost import XGBRegressor\n",
    "from sklearn.metrics import root_mean_squared_error"
   ]
  },
  {
   "cell_type": "code",
   "execution_count": 2,
   "metadata": {},
   "outputs": [],
   "source": [
    "full_train = pd.read_csv(\"train.csv\", index_col=\"id\")\n",
    "\n",
    "y = full_train[\"Listening_Time_minutes\"]\n",
    "X = full_train.drop(\"Listening_Time_minutes\", axis = 1)"
   ]
  },
  {
   "cell_type": "code",
   "execution_count": 13,
   "metadata": {},
   "outputs": [
    {
     "data": {
      "text/plain": [
       "count    750000.000000\n",
       "mean         45.437406\n",
       "std          27.138306\n",
       "min           0.000000\n",
       "25%          23.178350\n",
       "50%          43.379460\n",
       "75%          64.811580\n",
       "max         119.970000\n",
       "Name: Listening_Time_minutes, dtype: float64"
      ]
     },
     "execution_count": 13,
     "metadata": {},
     "output_type": "execute_result"
    }
   ],
   "source": [
    "y.describe()"
   ]
  },
  {
   "cell_type": "code",
   "execution_count": 3,
   "metadata": {},
   "outputs": [],
   "source": [
    "X_train, X_val, y_train, y_val = train_test_split(X, y, train_size=0.8, test_size=0.2, random_state=0)"
   ]
  },
  {
   "cell_type": "code",
   "execution_count": 4,
   "metadata": {},
   "outputs": [
    {
     "data": {
      "text/plain": [
       "Podcast_Name                        0\n",
       "Episode_Title                       0\n",
       "Episode_Length_minutes          69676\n",
       "Genre                               0\n",
       "Host_Popularity_percentage          0\n",
       "Publication_Day                     0\n",
       "Publication_Time                    0\n",
       "Guest_Popularity_percentage    116866\n",
       "Number_of_Ads                       1\n",
       "Episode_Sentiment                   0\n",
       "dtype: int64"
      ]
     },
     "execution_count": 4,
     "metadata": {},
     "output_type": "execute_result"
    }
   ],
   "source": [
    "X_train.isnull().sum()"
   ]
  },
  {
   "cell_type": "code",
   "execution_count": 5,
   "metadata": {},
   "outputs": [
    {
     "name": "stdout",
     "output_type": "stream",
     "text": [
      "category\n",
      "category\n",
      "category\n",
      "category\n",
      "category\n",
      "category\n"
     ]
    }
   ],
   "source": [
    "cat_features = [col for col in X_train.columns if X_train[col].dtype == \"object\"]\n",
    "cat_features \n",
    "for cat_feat in cat_features:\n",
    "    X_train[cat_feat] = X_train[cat_feat].astype(\"category\")\n",
    "    print(X_train[cat_feat].dtype)\n"
   ]
  },
  {
   "cell_type": "code",
   "execution_count": 7,
   "metadata": {},
   "outputs": [
    {
     "name": "stdout",
     "output_type": "stream",
     "text": [
      "category\n",
      "category\n",
      "category\n",
      "category\n",
      "category\n",
      "category\n",
      "Podcast_Name                   category\n",
      "Episode_Title                  category\n",
      "Episode_Length_minutes          float64\n",
      "Genre                          category\n",
      "Host_Popularity_percentage      float64\n",
      "Publication_Day                category\n",
      "Publication_Time               category\n",
      "Guest_Popularity_percentage     float64\n",
      "Number_of_Ads                   float64\n",
      "Episode_Sentiment              category\n",
      "dtype: object\n"
     ]
    }
   ],
   "source": [
    "cat_features = [col for col in X_val.columns if X_val[col].dtype == \"object\"]\n",
    "cat_features \n",
    "for cat_feat in cat_features:\n",
    "    \n",
    "    X_val[cat_feat] = X_val[cat_feat].astype(\"category\")\n",
    "    \n",
    "    print(X_val[cat_feat].dtype)\n",
    "print(X_val.dtypes)"
   ]
  },
  {
   "cell_type": "code",
   "execution_count": 8,
   "metadata": {},
   "outputs": [
    {
     "data": {
      "text/plain": [
       "13.088236576209288"
      ]
     },
     "execution_count": 8,
     "metadata": {},
     "output_type": "execute_result"
    }
   ],
   "source": [
    "model = XGBRegressor(enable_categorical = True)\n",
    "model.fit(X_train, y_train)\n",
    "preds = model.predict(X_val)\n",
    "\n",
    "RMSE =  root_mean_squared_error(y_val, preds)\n",
    "RMSE"
   ]
  },
  {
   "cell_type": "code",
   "execution_count": null,
   "metadata": {},
   "outputs": [],
   "source": []
  }
 ],
 "metadata": {
  "kernelspec": {
   "display_name": "Python 3",
   "language": "python",
   "name": "python3"
  },
  "language_info": {
   "codemirror_mode": {
    "name": "ipython",
    "version": 3
   },
   "file_extension": ".py",
   "mimetype": "text/x-python",
   "name": "python",
   "nbconvert_exporter": "python",
   "pygments_lexer": "ipython3",
   "version": "3.10.4"
  }
 },
 "nbformat": 4,
 "nbformat_minor": 2
}
